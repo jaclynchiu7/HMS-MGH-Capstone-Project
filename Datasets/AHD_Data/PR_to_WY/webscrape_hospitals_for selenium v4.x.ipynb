{
 "cells": [
  {
   "cell_type": "markdown",
   "id": "e553c11a",
   "metadata": {},
   "source": [
    "# Webscraping Hospital Data\n",
    "\n",
    "Gather data online from the American Hospital Directory to get amount of hospital and hospital beds for every state/region.\n",
    "https://www.ahd.com/state_statistics.html\n",
    "\n",
    "skip to section 3 for individual parts of webscraping"
   ]
  },
  {
   "cell_type": "markdown",
   "id": "157f506f",
   "metadata": {},
   "source": [
    "## Section 3: Webscrape all hospitals by each individual state\n",
    "\n",
    "To ensure we save all the data we webscrape, we're going to webscrape everything by state html instead of from the original page as in section 2. Please see the following assignments:\n",
    "\n",
    "* Jacob - Alaska to Iowa (AK, AL, AR, AS, AZ, CA, CO, CT, DC, DE, FL, GA, GU, HI, IA)\n",
    "* Jason - Idaho to Northern Mariana Islands (ID, IL, IN, KS, KY, LA, MA, MD, ME, MI, MN, MO, MP)\n",
    "* Lorenzo - Mississippi to Pennsylvania (MS, MT, NC, ND, NE, NH, NJ, NM, NV, NY, OH, OK, OR, PA)\n",
    "* Xinyu - Puerto Rico to Wyoming (PR, RI, SC, SD, RN, RX, UT, VA, VI, VT, WA, WI , WV, WY)\n",
    "\n",
    "You're going to have to install the selenium package and download a chrome driver, which you can find here https://chromedriver.chromium.org/downloads. Once you webscrape one state, save the csv to your local drive as \"ahd_state\" and upload to the github so we know which states have been successfully scraped.  \n",
    "\n",
    "If you have any questions just let me know haha. Section 1 has an example of a successful webscraping and the csv is in the github folder. The code might not be perfect because I don't have access to the webpages so I'm going off of what I can remember. \n"
   ]
  },
  {
   "cell_type": "code",
   "execution_count": 14,
   "id": "b83fbdb3",
   "metadata": {},
   "outputs": [
    {
     "name": "stdout",
     "output_type": "stream",
     "text": [
      "4.10.0\n"
     ]
    }
   ],
   "source": [
    "# first import packages \n",
    "import selenium\n",
    "print(selenium.__version__)"
   ]
  },
  {
   "cell_type": "code",
   "execution_count": 13,
   "id": "4a5948ae",
   "metadata": {},
   "outputs": [],
   "source": [
    "from selenium import webdriver\n",
    "import pandas as pd"
   ]
  },
  {
   "cell_type": "markdown",
   "id": "5fd09f2f",
   "metadata": {},
   "source": [
    "#### Run the code chunk below for each state you are responsible for \n",
    "\n",
    "Steps include: \n",
    "\n",
    "* set your chrome driver path\n",
    "* change the website url to your specific state \n",
    "* change the state variable to the state abbreviation\n",
    "* change the path of saving the csv to your local drive and change the name to ahd_StateABB.csv \n",
    "    "
   ]
  },
  {
   "cell_type": "code",
   "execution_count": 28,
   "id": "04485967",
   "metadata": {},
   "outputs": [],
   "source": [
    "# to your Chrome driver, need to download based on your Chrome version - see instructions in beginning of Section 3\n",
    "CHROME_DRIVER_PATH = 'D:/Chromedriver/chromedriver_win32/chromedriver.exe' # insert path to your chrom edriver\n",
    "\n",
    "# initialize the Selenium WebDriver\n",
    "# different code in Selenium v3.x and v4.x\n",
    "# https://stackoverflow.com/questions/70534875/typeerror-init-got-an-unexpected-keyword-argument-service-error-using-p\n",
    "\n",
    "# driver = webdriver.Chrome(executable_path=CHROME_DRIVER_PATH) \n",
    "\n",
    "from selenium.webdriver.chrome.service import Service\n",
    "service = Service(executable_path=\"CHROME_DRIVER_PATH\")\n",
    "options = webdriver.ChromeOptions()\n",
    "driver = webdriver.Chrome(service=service, options=options)\n",
    "\n",
    "# You can use this website to find the htmls for each individaul state\n",
    "# 'https://www.ahd.com/state_statistics.html'\n",
    "\n",
    "website = 'https://www.ahd.com/states/hospital_WY.html' # CHANGE THIS to your state html \n",
    "driver.get(website)\n",
    "\n",
    "# matches_state = driver.find_elements_by_tag_name('tr') # gathers all rows of the table with the tag\n",
    "\n",
    "from selenium.webdriver.common.by import By\n",
    "matches_state = driver.find_elements(By.TAG_NAME,'tr') # gathers all rows of the table with the tag\n",
    "\n",
    "hospital_name = []\n",
    "city = []\n",
    "staffed_beds = []\n",
    "total_discharges = []\n",
    "patient_days = []\n",
    "gross_revenue = []\n",
    "\n",
    "for match in matches_state[1:-1]:  # excludes header and total row \n",
    "    hospital_name.append(match.find_element(By.XPATH, './th').text)\n",
    "    city.append(match.find_element(By.XPATH,'./td[1]').text)\n",
    "    staffed_beds.append(match.find_element(By.XPATH, './td[2]').text)\n",
    "    total_discharges.append(match.find_element(By.XPATH,'./td[3]').text)\n",
    "    patient_days.append(match.find_element(By.XPATH, './td[4]').text)\n",
    "    gross_revenue.append(match.find_element(By.XPATH, './td[5]').text)\n",
    "\n",
    "# create list of state names \n",
    "state = \"WY\" # CHANGE THIS to whatever state abbreviation \n",
    "length = len(hospital_name)\n",
    "state_name = state * length\n",
    "\n",
    "# create dataframe \n",
    "columns_hospital = ['State', 'Hospital_Name', 'City', 'Staffed_Beds', 'Total_Discharges', \"Patient_Days\", 'Gross_Patient_Revenue']\n",
    "\n",
    "by_hospital_state = pd.DataFrame(list(zip(state_name, hospital_name, city, staffed_beds, \n",
    "                                          total_discharges, patient_days, gross_revenue)), \n",
    "                   columns = columns_hospital)\n",
    "\n",
    "by_hospital_state.to_csv(r'C:\\Users\\TANTAN\\Desktop\\MEng\\Capstone\\AHD_data\\ahd_WY.csv') # CHANGE THIS insert path to save ex. (/ahd_CA.csv)\n",
    "    \n",
    "driver.quit()"
   ]
  },
  {
   "cell_type": "code",
   "execution_count": null,
   "id": "c641d25d",
   "metadata": {},
   "outputs": [],
   "source": []
  }
 ],
 "metadata": {
  "kernelspec": {
   "display_name": "Python 3 (ipykernel)",
   "language": "python",
   "name": "python3"
  },
  "language_info": {
   "codemirror_mode": {
    "name": "ipython",
    "version": 3
   },
   "file_extension": ".py",
   "mimetype": "text/x-python",
   "name": "python",
   "nbconvert_exporter": "python",
   "pygments_lexer": "ipython3",
   "version": "3.9.13"
  }
 },
 "nbformat": 4,
 "nbformat_minor": 5
}

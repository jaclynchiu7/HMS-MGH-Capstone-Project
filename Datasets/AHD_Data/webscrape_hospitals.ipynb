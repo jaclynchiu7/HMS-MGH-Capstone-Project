{
 "cells": [
  {
   "cell_type": "markdown",
   "id": "e553c11a",
   "metadata": {},
   "source": [
    "# Webscraping Hospital Data\n",
    "\n",
    "Gather data online from the American Hospital Directory to get amount of hospital and hospital beds for every state/region.\n",
    "https://www.ahd.com/state_statistics.html"
   ]
  },
  {
   "cell_type": "markdown",
   "id": "13d245f0",
   "metadata": {},
   "source": [
    "## Scrape By State\n"
   ]
  },
  {
   "cell_type": "code",
   "execution_count": 29,
   "id": "8772b5b5",
   "metadata": {},
   "outputs": [],
   "source": [
    "from selenium import webdriver\n",
    "import pandas as pd"
   ]
  },
  {
   "cell_type": "code",
   "execution_count": 32,
   "id": "2c0aae8a",
   "metadata": {},
   "outputs": [],
   "source": [
    "# to your Chrome driver, need to download based on your Chrome version \n",
    "CHROME_DRIVER_PATH = 'path' # insert path to your chrom edriver\n",
    "\n",
    "# initialize the Selenium WebDriver\n",
    "driver = webdriver.Chrome(executable_path=CHROME_DRIVER_PATH)\n",
    "\n",
    "website = 'https://www.ahd.com/state_statistics.html'\n",
    "driver.get(website)\n",
    "matches = driver.find_elements_by_tag_name('tr') # gather all rows of table \n",
    "\n",
    "state = []\n",
    "num_hospitals = []\n",
    "staffed_beds = []\n",
    "total_discharges = []\n",
    "patient_days = []\n",
    "gross_revenue = []\n",
    "\n",
    "for match in matches[1:-1]: # runs through each row and extracts individual elements \n",
    "    state.append(match.find_element_by_xpath('./th').text)\n",
    "    num_hospitals.append(match.find_element_by_xpath('./td[1]').text)\n",
    "    staffed_beds.append(match.find_element_by_xpath('./td[2]').text)\n",
    "    total_discharges.append(match.find_element_by_xpath('./td[3]').text)\n",
    "    patient_days.append(match.find_element_by_xpath('./td[4]').text)\n",
    "    gross_revenue.append(match.find_element_by_xpath('./td[5]').text)\n",
    "\n",
    "    \n",
    "driver.quit()"
   ]
  },
  {
   "cell_type": "code",
   "execution_count": 33,
   "id": "b4b65262",
   "metadata": {},
   "outputs": [],
   "source": [
    "columns = ['State', 'Number_Hospitals', 'Staffed_Beds', 'Total_Discharges', \"Patient_Days\", 'Gross_Patient_Revenue']\n",
    "by_state = pd.DataFrame(list(zip(state, num_hospitals, staffed_beds, total_discharges, patient_days, gross_revenue)), \n",
    "                       columns = columns)"
   ]
  },
  {
   "cell_type": "code",
   "execution_count": 34,
   "id": "50d138a6",
   "metadata": {},
   "outputs": [
    {
     "data": {
      "text/html": [
       "<div>\n",
       "<style scoped>\n",
       "    .dataframe tbody tr th:only-of-type {\n",
       "        vertical-align: middle;\n",
       "    }\n",
       "\n",
       "    .dataframe tbody tr th {\n",
       "        vertical-align: top;\n",
       "    }\n",
       "\n",
       "    .dataframe thead th {\n",
       "        text-align: right;\n",
       "    }\n",
       "</style>\n",
       "<table border=\"1\" class=\"dataframe\">\n",
       "  <thead>\n",
       "    <tr style=\"text-align: right;\">\n",
       "      <th></th>\n",
       "      <th>State</th>\n",
       "      <th>Number_Hospitals</th>\n",
       "      <th>Staffed_Beds</th>\n",
       "      <th>Total_Discharges</th>\n",
       "      <th>Patient_Days</th>\n",
       "      <th>Gross_Patient_Revenue</th>\n",
       "    </tr>\n",
       "  </thead>\n",
       "  <tbody>\n",
       "    <tr>\n",
       "      <th>0</th>\n",
       "      <td>AK - Alaska</td>\n",
       "      <td>11</td>\n",
       "      <td>1,288</td>\n",
       "      <td>44,807</td>\n",
       "      <td>261,604</td>\n",
       "      <td>$6,913,063</td>\n",
       "    </tr>\n",
       "    <tr>\n",
       "      <th>1</th>\n",
       "      <td>AL - Alabama</td>\n",
       "      <td>90</td>\n",
       "      <td>15,019</td>\n",
       "      <td>533,204</td>\n",
       "      <td>2,888,426</td>\n",
       "      <td>$72,463,215</td>\n",
       "    </tr>\n",
       "    <tr>\n",
       "      <th>2</th>\n",
       "      <td>AR - Arkansas</td>\n",
       "      <td>55</td>\n",
       "      <td>7,835</td>\n",
       "      <td>303,107</td>\n",
       "      <td>1,486,441</td>\n",
       "      <td>$30,233,263</td>\n",
       "    </tr>\n",
       "    <tr>\n",
       "      <th>3</th>\n",
       "      <td>AS - American Samoa</td>\n",
       "      <td>1</td>\n",
       "      <td>131</td>\n",
       "      <td>4,607</td>\n",
       "      <td>28,024</td>\n",
       "      <td>$68,160</td>\n",
       "    </tr>\n",
       "    <tr>\n",
       "      <th>4</th>\n",
       "      <td>AZ - Arizona</td>\n",
       "      <td>79</td>\n",
       "      <td>13,938</td>\n",
       "      <td>599,898</td>\n",
       "      <td>3,064,973</td>\n",
       "      <td>$97,200,727</td>\n",
       "    </tr>\n",
       "  </tbody>\n",
       "</table>\n",
       "</div>"
      ],
      "text/plain": [
       "                 State Number_Hospitals Staffed_Beds Total_Discharges  \\\n",
       "0          AK - Alaska               11        1,288           44,807   \n",
       "1         AL - Alabama               90       15,019          533,204   \n",
       "2        AR - Arkansas               55        7,835          303,107   \n",
       "3  AS - American Samoa                1          131            4,607   \n",
       "4         AZ - Arizona               79       13,938          599,898   \n",
       "\n",
       "  Patient_Days Gross_Patient_Revenue  \n",
       "0      261,604            $6,913,063  \n",
       "1    2,888,426           $72,463,215  \n",
       "2    1,486,441           $30,233,263  \n",
       "3       28,024               $68,160  \n",
       "4    3,064,973           $97,200,727  "
      ]
     },
     "execution_count": 34,
     "metadata": {},
     "output_type": "execute_result"
    }
   ],
   "source": [
    "by_state.head()"
   ]
  },
  {
   "cell_type": "code",
   "execution_count": 59,
   "id": "2e419e4a",
   "metadata": {},
   "outputs": [],
   "source": [
    "by_state.to_csv(r'your directory') # insert path to save"
   ]
  },
  {
   "cell_type": "markdown",
   "id": "8aa29e04",
   "metadata": {},
   "source": [
    "## Scrape by Hospital\n",
    "\n",
    "didn't get csv for this one b/c i accessed the page too much lol - Jackie"
   ]
  },
  {
   "cell_type": "code",
   "execution_count": 56,
   "id": "2d8822e5",
   "metadata": {},
   "outputs": [],
   "source": [
    "# create empty dataframe \n",
    "columns_hospital = ['State', 'Hospital_Name', 'City', 'Staffed_Beds', 'Total_Discharges', \"Patient_Days\", 'Gross_Patient_Revenue']\n",
    "\n",
    "by_hospital = pd.DataFrame(columns = columns_hospital)"
   ]
  },
  {
   "cell_type": "code",
   "execution_count": 58,
   "id": "5aca9c54",
   "metadata": {},
   "outputs": [
    {
     "ename": "NoSuchElementException",
     "evalue": "Message: no such element: Unable to locate element: {\"method\":\"xpath\",\"selector\":\"./th\"}\n  (Session info: chrome=114.0.5735.199)\n",
     "output_type": "error",
     "traceback": [
      "\u001b[1;31m---------------------------------------------------------------------------\u001b[0m",
      "\u001b[1;31mNoSuchElementException\u001b[0m                    Traceback (most recent call last)",
      "Cell \u001b[1;32mIn[58], line 25\u001b[0m\n\u001b[0;32m     22\u001b[0m gross_revenue \u001b[38;5;241m=\u001b[39m []\n\u001b[0;32m     24\u001b[0m \u001b[38;5;28;01mfor\u001b[39;00m match \u001b[38;5;129;01min\u001b[39;00m matches_state[\u001b[38;5;241m1\u001b[39m:\u001b[38;5;241m-\u001b[39m\u001b[38;5;241m1\u001b[39m]:\n\u001b[1;32m---> 25\u001b[0m     hospital_name\u001b[38;5;241m.\u001b[39mappend(match\u001b[38;5;241m.\u001b[39mfind_element_by_xpath(\u001b[38;5;124m'\u001b[39m\u001b[38;5;124m./th\u001b[39m\u001b[38;5;124m'\u001b[39m)\u001b[38;5;241m.\u001b[39mtext)\n\u001b[0;32m     26\u001b[0m     city\u001b[38;5;241m.\u001b[39mappend(match\u001b[38;5;241m.\u001b[39mfind_element_by_xpath(\u001b[38;5;124m'\u001b[39m\u001b[38;5;124m./td[1]\u001b[39m\u001b[38;5;124m'\u001b[39m)\u001b[38;5;241m.\u001b[39mtext)\n\u001b[0;32m     27\u001b[0m     staffed_beds\u001b[38;5;241m.\u001b[39mappend(match\u001b[38;5;241m.\u001b[39mfind_element_by_xpath(\u001b[38;5;124m'\u001b[39m\u001b[38;5;124m./td[2]\u001b[39m\u001b[38;5;124m'\u001b[39m)\u001b[38;5;241m.\u001b[39mtext)\n",
      "File \u001b[1;32m~\\anaconda3\\envs\\interviews\\Lib\\site-packages\\selenium\\webdriver\\remote\\webelement.py:351\u001b[0m, in \u001b[0;36mWebElement.find_element_by_xpath\u001b[1;34m(self, xpath)\u001b[0m\n\u001b[0;32m    322\u001b[0m \u001b[38;5;28;01mdef\u001b[39;00m \u001b[38;5;21mfind_element_by_xpath\u001b[39m(\u001b[38;5;28mself\u001b[39m, xpath):\n\u001b[0;32m    323\u001b[0m \u001b[38;5;250m    \u001b[39m\u001b[38;5;124;03m\"\"\"Finds element by xpath.\u001b[39;00m\n\u001b[0;32m    324\u001b[0m \n\u001b[0;32m    325\u001b[0m \u001b[38;5;124;03m    :Args:\u001b[39;00m\n\u001b[1;32m   (...)\u001b[0m\n\u001b[0;32m    349\u001b[0m \u001b[38;5;124;03m        element = element.find_element_by_xpath('//div/td[1]')\u001b[39;00m\n\u001b[0;32m    350\u001b[0m \u001b[38;5;124;03m    \"\"\"\u001b[39;00m\n\u001b[1;32m--> 351\u001b[0m     \u001b[38;5;28;01mreturn\u001b[39;00m \u001b[38;5;28mself\u001b[39m\u001b[38;5;241m.\u001b[39mfind_element(by\u001b[38;5;241m=\u001b[39mBy\u001b[38;5;241m.\u001b[39mXPATH, value\u001b[38;5;241m=\u001b[39mxpath)\n",
      "File \u001b[1;32m~\\anaconda3\\envs\\interviews\\Lib\\site-packages\\selenium\\webdriver\\remote\\webelement.py:658\u001b[0m, in \u001b[0;36mWebElement.find_element\u001b[1;34m(self, by, value)\u001b[0m\n\u001b[0;32m    655\u001b[0m         by \u001b[38;5;241m=\u001b[39m By\u001b[38;5;241m.\u001b[39mCSS_SELECTOR\n\u001b[0;32m    656\u001b[0m         value \u001b[38;5;241m=\u001b[39m \u001b[38;5;124m'\u001b[39m\u001b[38;5;124m[name=\u001b[39m\u001b[38;5;124m\"\u001b[39m\u001b[38;5;132;01m%s\u001b[39;00m\u001b[38;5;124m\"\u001b[39m\u001b[38;5;124m]\u001b[39m\u001b[38;5;124m'\u001b[39m \u001b[38;5;241m%\u001b[39m value\n\u001b[1;32m--> 658\u001b[0m \u001b[38;5;28;01mreturn\u001b[39;00m \u001b[38;5;28mself\u001b[39m\u001b[38;5;241m.\u001b[39m_execute(Command\u001b[38;5;241m.\u001b[39mFIND_CHILD_ELEMENT,\n\u001b[0;32m    659\u001b[0m                      {\u001b[38;5;124m\"\u001b[39m\u001b[38;5;124musing\u001b[39m\u001b[38;5;124m\"\u001b[39m: by, \u001b[38;5;124m\"\u001b[39m\u001b[38;5;124mvalue\u001b[39m\u001b[38;5;124m\"\u001b[39m: value})[\u001b[38;5;124m'\u001b[39m\u001b[38;5;124mvalue\u001b[39m\u001b[38;5;124m'\u001b[39m]\n",
      "File \u001b[1;32m~\\anaconda3\\envs\\interviews\\Lib\\site-packages\\selenium\\webdriver\\remote\\webelement.py:633\u001b[0m, in \u001b[0;36mWebElement._execute\u001b[1;34m(self, command, params)\u001b[0m\n\u001b[0;32m    631\u001b[0m     params \u001b[38;5;241m=\u001b[39m {}\n\u001b[0;32m    632\u001b[0m params[\u001b[38;5;124m'\u001b[39m\u001b[38;5;124mid\u001b[39m\u001b[38;5;124m'\u001b[39m] \u001b[38;5;241m=\u001b[39m \u001b[38;5;28mself\u001b[39m\u001b[38;5;241m.\u001b[39m_id\n\u001b[1;32m--> 633\u001b[0m \u001b[38;5;28;01mreturn\u001b[39;00m \u001b[38;5;28mself\u001b[39m\u001b[38;5;241m.\u001b[39m_parent\u001b[38;5;241m.\u001b[39mexecute(command, params)\n",
      "File \u001b[1;32m~\\anaconda3\\envs\\interviews\\Lib\\site-packages\\selenium\\webdriver\\remote\\webdriver.py:321\u001b[0m, in \u001b[0;36mWebDriver.execute\u001b[1;34m(self, driver_command, params)\u001b[0m\n\u001b[0;32m    319\u001b[0m response \u001b[38;5;241m=\u001b[39m \u001b[38;5;28mself\u001b[39m\u001b[38;5;241m.\u001b[39mcommand_executor\u001b[38;5;241m.\u001b[39mexecute(driver_command, params)\n\u001b[0;32m    320\u001b[0m \u001b[38;5;28;01mif\u001b[39;00m response:\n\u001b[1;32m--> 321\u001b[0m     \u001b[38;5;28mself\u001b[39m\u001b[38;5;241m.\u001b[39merror_handler\u001b[38;5;241m.\u001b[39mcheck_response(response)\n\u001b[0;32m    322\u001b[0m     response[\u001b[38;5;124m'\u001b[39m\u001b[38;5;124mvalue\u001b[39m\u001b[38;5;124m'\u001b[39m] \u001b[38;5;241m=\u001b[39m \u001b[38;5;28mself\u001b[39m\u001b[38;5;241m.\u001b[39m_unwrap_value(\n\u001b[0;32m    323\u001b[0m         response\u001b[38;5;241m.\u001b[39mget(\u001b[38;5;124m'\u001b[39m\u001b[38;5;124mvalue\u001b[39m\u001b[38;5;124m'\u001b[39m, \u001b[38;5;28;01mNone\u001b[39;00m))\n\u001b[0;32m    324\u001b[0m     \u001b[38;5;28;01mreturn\u001b[39;00m response\n",
      "File \u001b[1;32m~\\anaconda3\\envs\\interviews\\Lib\\site-packages\\selenium\\webdriver\\remote\\errorhandler.py:242\u001b[0m, in \u001b[0;36mErrorHandler.check_response\u001b[1;34m(self, response)\u001b[0m\n\u001b[0;32m    240\u001b[0m         alert_text \u001b[38;5;241m=\u001b[39m value[\u001b[38;5;124m'\u001b[39m\u001b[38;5;124malert\u001b[39m\u001b[38;5;124m'\u001b[39m]\u001b[38;5;241m.\u001b[39mget(\u001b[38;5;124m'\u001b[39m\u001b[38;5;124mtext\u001b[39m\u001b[38;5;124m'\u001b[39m)\n\u001b[0;32m    241\u001b[0m     \u001b[38;5;28;01mraise\u001b[39;00m exception_class(message, screen, stacktrace, alert_text)\n\u001b[1;32m--> 242\u001b[0m \u001b[38;5;28;01mraise\u001b[39;00m exception_class(message, screen, stacktrace)\n",
      "\u001b[1;31mNoSuchElementException\u001b[0m: Message: no such element: Unable to locate element: {\"method\":\"xpath\",\"selector\":\"./th\"}\n  (Session info: chrome=114.0.5735.199)\n"
     ]
    }
   ],
   "source": [
    "# to your Chrome driver, need to download based on your Chrome version \n",
    "CHROME_DRIVER_PATH = 'path' # insert path to your chrom edriver\n",
    "\n",
    "# initialize the Selenium WebDriver\n",
    "driver = webdriver.Chrome(executable_path=CHROME_DRIVER_PATH)\n",
    "\n",
    "website = 'https://www.ahd.com/state_statistics.html'\n",
    "driver.get(website)\n",
    "matches = driver.find_elements_by_tag_name('a') # with tags for href\n",
    "\n",
    "\n",
    "for match in matches[8:-7]: # excludes href no to states \n",
    "    state = [match.text]\n",
    "    match.click()\n",
    "    \n",
    "    matches_state = driver.find_elements_by_tag_name('tr')\n",
    "\n",
    "    hospital_name = []\n",
    "    city = []\n",
    "    staffed_beds = []\n",
    "    total_discharges = []\n",
    "    patient_days = []\n",
    "    gross_revenue = []\n",
    "    \n",
    "    for match in matches_state[1:-1]:\n",
    "        hospital_name.append(match.find_element_by_xpath('./th').text)\n",
    "        city.append(match.find_element_by_xpath('./td[1]').text)\n",
    "        staffed_beds.append(match.find_element_by_xpath('./td[2]').text)\n",
    "        total_discharges.append(match.find_element_by_xpath('./td[3]').text)\n",
    "        patient_days.append(match.find_element_by_xpath('./td[4]').text)\n",
    "        gross_revenue.append(match.find_element_by_xpath('./td[5]').text)\n",
    "    \n",
    "    # create list of state names \n",
    "    length = len(hospital_name)\n",
    "    state_name = state * length\n",
    "    \n",
    "    # create dataframe \n",
    "    by_hospital_state = pd.DataFrame(list(zip(state_name, hospital_name, city, staffed_beds, \n",
    "                                              total_discharges, patient_days, gross_revenue)), \n",
    "                       columns = columns_hospital)\n",
    "    \n",
    "    by_hospital.append(by_hospital_state)\n"
   ]
  },
  {
   "cell_type": "code",
   "execution_count": null,
   "id": "07f16f8b",
   "metadata": {},
   "outputs": [],
   "source": [
    "by_hospital.to_csv(r'your directory') # insert path to save"
   ]
  }
 ],
 "metadata": {
  "kernelspec": {
   "display_name": "Python [conda env:interviews]",
   "language": "python",
   "name": "conda-env-interviews-py"
  },
  "language_info": {
   "codemirror_mode": {
    "name": "ipython",
    "version": 3
   },
   "file_extension": ".py",
   "mimetype": "text/x-python",
   "name": "python",
   "nbconvert_exporter": "python",
   "pygments_lexer": "ipython3",
   "version": "3.11.3"
  }
 },
 "nbformat": 4,
 "nbformat_minor": 5
}

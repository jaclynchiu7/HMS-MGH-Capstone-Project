{
 "cells": [
  {
   "cell_type": "markdown",
   "metadata": {},
   "source": [
    "### Imports"
   ]
  },
  {
   "cell_type": "code",
   "execution_count": 13,
   "metadata": {},
   "outputs": [],
   "source": [
    "import pandas as pd\n",
    "import glob\n",
    "import os"
   ]
  },
  {
   "cell_type": "markdown",
   "metadata": {},
   "source": [
    "### Opening DFs"
   ]
  },
  {
   "cell_type": "code",
   "execution_count": 37,
   "metadata": {},
   "outputs": [
    {
     "data": {
      "text/html": [
       "<div>\n",
       "<style scoped>\n",
       "    .dataframe tbody tr th:only-of-type {\n",
       "        vertical-align: middle;\n",
       "    }\n",
       "\n",
       "    .dataframe tbody tr th {\n",
       "        vertical-align: top;\n",
       "    }\n",
       "\n",
       "    .dataframe thead th {\n",
       "        text-align: right;\n",
       "    }\n",
       "</style>\n",
       "<table border=\"1\" class=\"dataframe\">\n",
       "  <thead>\n",
       "    <tr style=\"text-align: right;\">\n",
       "      <th></th>\n",
       "      <th>Unnamed: 0</th>\n",
       "      <th>X.1</th>\n",
       "      <th>X</th>\n",
       "      <th>GISJOIN</th>\n",
       "      <th>ADI_NATRANK</th>\n",
       "      <th>ADI_STATERNK</th>\n",
       "      <th>FIPS</th>\n",
       "    </tr>\n",
       "  </thead>\n",
       "  <tbody>\n",
       "    <tr>\n",
       "      <th>0</th>\n",
       "      <td>1</td>\n",
       "      <td>1</td>\n",
       "      <td>1</td>\n",
       "      <td>G01000100201001</td>\n",
       "      <td>66</td>\n",
       "      <td>4</td>\n",
       "      <td>10010201001</td>\n",
       "    </tr>\n",
       "    <tr>\n",
       "      <th>1</th>\n",
       "      <td>2</td>\n",
       "      <td>2</td>\n",
       "      <td>2</td>\n",
       "      <td>G01000100201002</td>\n",
       "      <td>66</td>\n",
       "      <td>4</td>\n",
       "      <td>10010201002</td>\n",
       "    </tr>\n",
       "    <tr>\n",
       "      <th>2</th>\n",
       "      <td>3</td>\n",
       "      <td>3</td>\n",
       "      <td>3</td>\n",
       "      <td>G01000100202001</td>\n",
       "      <td>88</td>\n",
       "      <td>7</td>\n",
       "      <td>10010202001</td>\n",
       "    </tr>\n",
       "    <tr>\n",
       "      <th>3</th>\n",
       "      <td>4</td>\n",
       "      <td>4</td>\n",
       "      <td>4</td>\n",
       "      <td>G01000100202002</td>\n",
       "      <td>88</td>\n",
       "      <td>7</td>\n",
       "      <td>10010202002</td>\n",
       "    </tr>\n",
       "    <tr>\n",
       "      <th>4</th>\n",
       "      <td>5</td>\n",
       "      <td>5</td>\n",
       "      <td>5</td>\n",
       "      <td>G01000100203001</td>\n",
       "      <td>75</td>\n",
       "      <td>5</td>\n",
       "      <td>10010203001</td>\n",
       "    </tr>\n",
       "  </tbody>\n",
       "</table>\n",
       "</div>"
      ],
      "text/plain": [
       "   Unnamed: 0  X.1  X          GISJOIN ADI_NATRANK ADI_STATERNK         FIPS\n",
       "0           1    1  1  G01000100201001          66            4  10010201001\n",
       "1           2    2  2  G01000100201002          66            4  10010201002\n",
       "2           3    3  3  G01000100202001          88            7  10010202001\n",
       "3           4    4  4  G01000100202002          88            7  10010202002\n",
       "4           5    5  5  G01000100203001          75            5  10010203001"
      ]
     },
     "execution_count": 37,
     "metadata": {},
     "output_type": "execute_result"
    }
   ],
   "source": [
    "# ADI\n",
    "df_adi = pd.read_csv('D:/UCLA/Capstone/HMS-MGH-Capstone-Project/datasets/ADI/US_2020_ADI_Census Block Group_v4.csv')\n",
    "df_adi.head()"
   ]
  },
  {
   "cell_type": "code",
   "execution_count": 31,
   "metadata": {},
   "outputs": [],
   "source": [
    "# AHD AK to IA\n",
    "ahd_path = 'D:/UCLA/Capstone/HMS-MGH-Capstone-Project/datasets/AHD_Data/Alaska_to_Iowa/'\n",
    "full_path = os.path.join(ahd_path, '*.csv')\n",
    "\n",
    "all_ahd_files = glob.glob('D:/UCLA/Capstone/HMS-MGH-Capstone-Project/datasets/AHD_Data/AK_to_IA/' + \"*.csv\")\n",
    "all_ahd_files = [f.replace(\"\\\\\", \"/\") for f in all_ahd_files]\n",
    "\n",
    "ahd_AK_IA_dfs = []\n",
    "for filename in all_ahd_files:\n",
    "    df = pd.read_csv(filename)\n",
    "    ahd_AK_IA_dfs.append(df)"
   ]
  },
  {
   "cell_type": "code",
   "execution_count": 34,
   "metadata": {},
   "outputs": [],
   "source": [
    "# AHD ID to MP\n",
    "ahd_path = 'D:/UCLA/Capstone/HMS-MGH-Capstone-Project/datasets/AHD_Data/ID_to_MP/'\n",
    "full_path = os.path.join(ahd_path, '*.csv')\n",
    "\n",
    "all_ahd_files = glob.glob('D:/UCLA/Capstone/HMS-MGH-Capstone-Project/datasets/AHD_Data/ID_to_MP/' + \"*.csv\")\n",
    "all_ahd_files = [f.replace(\"\\\\\", \"/\") for f in all_ahd_files]\n",
    "\n",
    "ahd_ID_to_MP_dfs = []\n",
    "for filename in all_ahd_files:\n",
    "    df = pd.read_csv(filename)\n",
    "    ahd_ID_to_MP_dfs.append(df)"
   ]
  },
  {
   "cell_type": "code",
   "execution_count": 35,
   "metadata": {},
   "outputs": [],
   "source": [
    "# AHD PR to WY\n",
    "ahd_path = 'D:/UCLA/Capstone/HMS-MGH-Capstone-Project/datasets/AHD_Data/ID_to_MP/'\n",
    "full_path = os.path.join(ahd_path, '*.csv')\n",
    "\n",
    "all_ahd_files = glob.glob('D:/UCLA/Capstone/HMS-MGH-Capstone-Project/datasets/AHD_Data/PR_to_WY/' + \"*.csv\")\n",
    "all_ahd_files = [f.replace(\"\\\\\", \"/\") for f in all_ahd_files]\n",
    "\n",
    "ahd_PR_to_WY_dfs = []\n",
    "for filename in all_ahd_files:\n",
    "    df = pd.read_csv(filename)\n",
    "    ahd_PR_to_WY_dfs.append(df)"
   ]
  },
  {
   "cell_type": "code",
   "execution_count": null,
   "metadata": {},
   "outputs": [],
   "source": []
  }
 ],
 "metadata": {
  "kernelspec": {
   "display_name": "ml",
   "language": "python",
   "name": "python3"
  },
  "language_info": {
   "codemirror_mode": {
    "name": "ipython",
    "version": 3
   },
   "file_extension": ".py",
   "mimetype": "text/x-python",
   "name": "python",
   "nbconvert_exporter": "python",
   "pygments_lexer": "ipython3",
   "version": "3.8.15"
  },
  "orig_nbformat": 4
 },
 "nbformat": 4,
 "nbformat_minor": 2
}
